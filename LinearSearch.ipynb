{
 "cells": [
  {
   "cell_type": "markdown",
   "metadata": {},
   "source": [
    "# Pseudocode\n",
    "<pre>\n",
    "for item in array  \n",
    "    if item == key  \n",
    "        return item's index  \n",
    "        \n",
    "return -1\n",
    "</pre>"
   ]
  },
  {
   "cell_type": "markdown",
   "metadata": {},
   "source": [
    "# Python Implementation"
   ]
  },
  {
   "cell_type": "code",
   "execution_count": 1,
   "metadata": {},
   "outputs": [],
   "source": [
    "def linear_search(A, key):\n",
    "    '''\n",
    "    Find an item in a list using linear search\n",
    "    \n",
    "    Args\n",
    "    ----\n",
    "    A: list\n",
    "        contains the elements to be searched\n",
    "        \n",
    "    key: int, float or string\n",
    "        value to look for\n",
    "        \n",
    "    return\n",
    "    ------\n",
    "    int: index of the element if key is found, or -1 if key is not found\n",
    "    '''\n",
    "    \n",
    "    for idx, item in enumerate(A): #----> O(n)\n",
    "        if item == key:\n",
    "            return idx\n",
    "    \n",
    "    #in case item is not found\n",
    "    return -1"
   ]
  },
  {
   "cell_type": "code",
   "execution_count": 2,
   "metadata": {},
   "outputs": [
    {
     "data": {
      "text/plain": [
       "3"
      ]
     },
     "execution_count": 2,
     "metadata": {},
     "output_type": "execute_result"
    }
   ],
   "source": [
    "arr = [\"a\", \"b\",\"c\",\"d\",\"e\"]\n",
    "k = \"d\"\n",
    "linear_search(arr, k)"
   ]
  },
  {
   "cell_type": "code",
   "execution_count": null,
   "metadata": {},
   "outputs": [],
   "source": []
  }
 ],
 "metadata": {
  "kernelspec": {
   "display_name": "Python 3",
   "language": "python",
   "name": "python3"
  },
  "language_info": {
   "codemirror_mode": {
    "name": "ipython",
    "version": 3
   },
   "file_extension": ".py",
   "mimetype": "text/x-python",
   "name": "python",
   "nbconvert_exporter": "python",
   "pygments_lexer": "ipython3",
   "version": "3.8.3"
  }
 },
 "nbformat": 4,
 "nbformat_minor": 4
}
