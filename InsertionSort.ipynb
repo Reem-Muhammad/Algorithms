{
 "cells": [
  {
   "cell_type": "markdown",
   "metadata": {},
   "source": [
    "# Insertion Sort\n",
    "<pre>\n",
    "1- start at the second element (i=1)  \n",
    "2- compare element i with each element before it (sorted array)  \n",
    "3- if element i is smaller, swap them  \n",
    "4- advance i  \n",
    "5- repeat steps 2:4 until reaching the end of the array  \n",
    "</pre>\n",
    "\n",
    "The array is always divided into sorted array to the left of i, and an unsorted array to its right."
   ]
  },
  {
   "cell_type": "markdown",
   "metadata": {},
   "source": [
    " "
   ]
  },
  {
   "cell_type": "markdown",
   "metadata": {},
   "source": [
    " "
   ]
  },
  {
   "cell_type": "code",
   "execution_count": 1,
   "metadata": {},
   "outputs": [],
   "source": [
    "def insertion_sort(A):\n",
    "    '''\n",
    "    Ascendingly sort a list, in-place, using insertion sort\n",
    "    \n",
    "    Args\n",
    "    ----\n",
    "    A: list\n",
    "        list of elements to be sorted in-place\n",
    "        \n",
    "    '''\n",
    "    \n",
    "    n_comparisons = 0 #counter for the number of comparisons performed (for demonstration)\n",
    "    for idx_unsortedList in range(1,len(A)):\n",
    "        elementToSort_idx = idx_unsortedList #index of element to be inserted in its sorted position\n",
    "        \n",
    "        for idx_sortedList in range(idx_unsortedList-1,-1,-1):\n",
    "            n_comparisons += 1\n",
    "            if A[elementToSort_idx]<A[idx_sortedList]:\n",
    "                A[elementToSort_idx], A[idx_sortedList] = A[idx_sortedList], A[elementToSort_idx] #swap\n",
    "                elementToSort_idx= idx_sortedList #update index of element that is being sorted\n",
    "            \n",
    "    print(\"{} comparisons\".format(n_comparisons))"
   ]
  },
  {
   "cell_type": "code",
   "execution_count": 2,
   "metadata": {},
   "outputs": [
    {
     "name": "stdout",
     "output_type": "stream",
     "text": [
      "21 comparisons\n"
     ]
    },
    {
     "data": {
      "text/plain": [
       "[1, 2, 3, 4, 7, 8, 9]"
      ]
     },
     "execution_count": 2,
     "metadata": {},
     "output_type": "execute_result"
    }
   ],
   "source": [
    "arr = [2,8,3,4,7,9,1]\n",
    "insertion_sort(arr)\n",
    "arr"
   ]
  },
  {
   "cell_type": "markdown",
   "metadata": {},
   "source": [
    " "
   ]
  },
  {
   "cell_type": "markdown",
   "metadata": {},
   "source": [
    " "
   ]
  },
  {
   "cell_type": "markdown",
   "metadata": {},
   "source": [
    " "
   ]
  },
  {
   "cell_type": "markdown",
   "metadata": {},
   "source": [
    "## Time Complexity Analysis\n",
    "**Worst-case**  \n",
    "at i=1 : 1 comparison  \n",
    "at i=2 : 2 comparisons  \n",
    "<pre>\n",
    ".\n",
    ".\n",
    ".\n",
    "</pre>\n",
    "at i=n-1 : n-1 comparisons  \n",
    "  \n",
    "Total = $1+2+...+(n-2)+(n-1)\\approx \\frac{n(n-1)}{2}=O(n^2)$  \n",
    "  \n",
    "**best-case**  \n",
    "This implementation is insensitive to input. $\\Omega{(n^2)}$"
   ]
  },
  {
   "cell_type": "markdown",
   "metadata": {},
   "source": [
    "## Space Complexity Analysis\n",
    "No need for auxiliary space. $O(1)$"
   ]
  },
  {
   "cell_type": "markdown",
   "metadata": {},
   "source": [
    " "
   ]
  },
  {
   "cell_type": "markdown",
   "metadata": {},
   "source": [
    " "
   ]
  },
  {
   "cell_type": "markdown",
   "metadata": {},
   "source": [
    " "
   ]
  },
  {
   "cell_type": "markdown",
   "metadata": {},
   "source": [
    " "
   ]
  },
  {
   "cell_type": "markdown",
   "metadata": {},
   "source": [
    "# Another implementation to avoid unnecessary comparisons\n",
    "\n",
    "Takes advantage of the fact that the sublist before i is sorted, so if array\\[i\\] is larger than the last element of the sorted list, there will be no need for further comparisons.   \n",
    "  \n",
    "  \n",
    "This reduces **best-case time complexity** to $\\Omega{(n)}$"
   ]
  },
  {
   "cell_type": "code",
   "execution_count": 3,
   "metadata": {},
   "outputs": [],
   "source": [
    "def insertion_sort_improved(A):\n",
    "    '''\n",
    "    Ascendingly sort a list, in-place, using insertion sort\n",
    "    \n",
    "    Args\n",
    "    ----\n",
    "    A: list\n",
    "        list of elements to be sorted in-place\n",
    "        \n",
    "    '''\n",
    "    n_comparisons = 0 #counter for the number of comparisons performed (for demonstration)\n",
    "    \n",
    "    for idx_unsortedList in range(1,len(A)):\n",
    "        elementToSort_idx = idx_unsortedList #index of element to be inserted in its sorted position\n",
    "        \n",
    "        for idx_sortedList in range(idx_unsortedList-1,-1,-1):\n",
    "            n_comparisons += 1\n",
    "            if A[elementToSort_idx]<A[idx_sortedList]:\n",
    "                A[elementToSort_idx], A[idx_sortedList] = A[idx_sortedList], A[elementToSort_idx] #swap\n",
    "                elementToSort_idx= idx_sortedList #update index of element that is being sorted\n",
    "            else:\n",
    "                #if larger, avoid further comparison in the sorted list\n",
    "                break\n",
    "            \n",
    "    print(\"{} comparisons\".format(n_comparisons))"
   ]
  },
  {
   "cell_type": "code",
   "execution_count": 4,
   "metadata": {},
   "outputs": [
    {
     "name": "stdout",
     "output_type": "stream",
     "text": [
      "6 comparisons\n"
     ]
    },
    {
     "data": {
      "text/plain": [
       "[1, 2, 3, 4, 7, 8, 9]"
      ]
     },
     "execution_count": 4,
     "metadata": {},
     "output_type": "execute_result"
    }
   ],
   "source": [
    "arr = [1, 2, 3, 4, 7, 8, 9] #best-case\n",
    "insertion_sort_improved(arr)\n",
    "arr"
   ]
  },
  {
   "cell_type": "markdown",
   "metadata": {},
   "source": [
    " "
   ]
  },
  {
   "cell_type": "markdown",
   "metadata": {},
   "source": [
    " "
   ]
  },
  {
   "cell_type": "markdown",
   "metadata": {},
   "source": [
    " "
   ]
  }
 ],
 "metadata": {
  "kernelspec": {
   "display_name": "Python 3",
   "language": "python",
   "name": "python3"
  },
  "language_info": {
   "codemirror_mode": {
    "name": "ipython",
    "version": 3
   },
   "file_extension": ".py",
   "mimetype": "text/x-python",
   "name": "python",
   "nbconvert_exporter": "python",
   "pygments_lexer": "ipython3",
   "version": "3.8.3"
  }
 },
 "nbformat": 4,
 "nbformat_minor": 4
}
