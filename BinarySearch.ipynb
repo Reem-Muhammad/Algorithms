{
 "cells": [
  {
   "cell_type": "markdown",
   "metadata": {},
   "source": [
    "# Binary search\n",
    "- operates on a sorted array\n",
    "- repeatedly, divides the array in half, and searches the one that contains the key"
   ]
  },
  {
   "cell_type": "markdown",
   "metadata": {},
   "source": [
    "# Pseudocode\n",
    "<pre>\n",
    "while start_idx &lt;= end_idx\n",
    "    get middle element\n",
    "    if middle element == key\n",
    "        return middle element's index\n",
    "    else if key &lt; middle element\n",
    "        search the first half\n",
    "    else if key &gt; middle element\n",
    "        search the second half\n",
    "\n",
    "return -1\n",
    "</pre>"
   ]
  },
  {
   "cell_type": "code",
   "execution_count": 1,
   "metadata": {},
   "outputs": [],
   "source": [
    "def binary_search(A, key):\n",
    "    '''\n",
    "    Find an item in a list using binary search\n",
    "    \n",
    "    Args\n",
    "    ----\n",
    "    A: list\n",
    "        contains the elements to be searched\n",
    "        \n",
    "    key: int, float or string\n",
    "        value to look for\n",
    "        \n",
    "    return\n",
    "    ------\n",
    "    int: index of the element if key is found, or -1 if key is not found\n",
    "    '''\n",
    "    start_idx = 0\n",
    "    end_idx = len(A)-1\n",
    "    \n",
    "    while start_idx <= end_idx: #------> halving 'n' each iteration --> O(log n)\n",
    "        middle_idx = (start_idx + end_idx)//2  #index should be integer\n",
    "        \n",
    "        if key==A[middle_idx]:\n",
    "            return middle_idx\n",
    "        \n",
    "        elif key<A[middle_idx]:\n",
    "            #Set end_idx to search the first half\n",
    "            end_idx = middle_idx-1\n",
    "            \n",
    "        elif key>A[middle_idx]:\n",
    "            #Set start_idx to search the second half\n",
    "            start_idx = middle_idx+1\n",
    "            \n",
    "    # In case key is not found\n",
    "    return -1\n",
    "    "
   ]
  },
  {
   "cell_type": "code",
   "execution_count": 2,
   "metadata": {},
   "outputs": [
    {
     "data": {
      "text/plain": [
       "7"
      ]
     },
     "execution_count": 2,
     "metadata": {},
     "output_type": "execute_result"
    }
   ],
   "source": [
    "arr = [1,2,3,4,5,6,7,8,9,10] #has to be sorted\n",
    "k = 8\n",
    "binary_search(arr, k)"
   ]
  }
 ],
 "metadata": {
  "kernelspec": {
   "display_name": "Python 3",
   "language": "python",
   "name": "python3"
  },
  "language_info": {
   "codemirror_mode": {
    "name": "ipython",
    "version": 3
   },
   "file_extension": ".py",
   "mimetype": "text/x-python",
   "name": "python",
   "nbconvert_exporter": "python",
   "pygments_lexer": "ipython3",
   "version": "3.8.3"
  }
 },
 "nbformat": 4,
 "nbformat_minor": 4
}
