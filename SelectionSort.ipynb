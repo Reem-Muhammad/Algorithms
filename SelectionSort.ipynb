{
 "cells": [
  {
   "cell_type": "markdown",
   "metadata": {},
   "source": [
    "# Selection Sort"
   ]
  },
  {
   "cell_type": "markdown",
   "metadata": {},
   "source": [
    "1- start at index i=0  \n",
    "2- find min element starting from index i to the end  \n",
    "3- swap min element with element at i  \n",
    "4- advance i  \n",
    "5- repeat steps 2:4 until you reach the end  "
   ]
  },
  {
   "cell_type": "code",
   "execution_count": 1,
   "metadata": {},
   "outputs": [],
   "source": [
    "def selection_sort(A):\n",
    "    '''\n",
    "    Ascendingly sort a list, in-place, using selection sort\n",
    "    \n",
    "    Args\n",
    "    ----\n",
    "    A: list\n",
    "        list of elements to be sorted in-place\n",
    "        \n",
    "    '''\n",
    "    for i in range(len(A)):\n",
    "        min_idx = min(range(i,len(A)), key=lambda idx: A[idx]) #find index of min element starting from i\n",
    "        A[i], A[min_idx] = A[min_idx], A[i]  #swap\n"
   ]
  },
  {
   "cell_type": "code",
   "execution_count": 2,
   "metadata": {},
   "outputs": [
    {
     "data": {
      "text/plain": [
       "[1, 2, 2, 3, 4, 4, 6, 8]"
      ]
     },
     "execution_count": 2,
     "metadata": {},
     "output_type": "execute_result"
    }
   ],
   "source": [
    "arr = [4,1,6,2,3,8,4,2]\n",
    "selection_sort(arr)\n",
    "arr"
   ]
  },
  {
   "cell_type": "markdown",
   "metadata": {},
   "source": [
    "## Time Complexity Analysis\n",
    "\n",
    "#### Worst-case\n",
    "at i=0 : min() makes n iterations  \n",
    "at i=1 : min() makes n-1 iterations  \n",
    "<pre>\n",
    ".\n",
    ".\n",
    ".\n",
    "</pre>\n",
    "total # iterations = $n+(n-1)+(n-2)+...+2+1 = \\frac{n(n-1)}{2}=O(n^2) $  \n",
    "\n",
    "\n",
    "#### Best-case\n",
    "Insensitive to input. If the input is sorted, the algorithm would still make all comparisons.  \n",
    "$\\Omega{(n^2)}$\n",
    "\n",
    "\n",
    "## Space Complexity Analysis\n",
    "In-place sorting. $O(1)$"
   ]
  },
  {
   "cell_type": "code",
   "execution_count": null,
   "metadata": {},
   "outputs": [],
   "source": []
  }
 ],
 "metadata": {
  "kernelspec": {
   "display_name": "Python 3",
   "language": "python",
   "name": "python3"
  },
  "language_info": {
   "codemirror_mode": {
    "name": "ipython",
    "version": 3
   },
   "file_extension": ".py",
   "mimetype": "text/x-python",
   "name": "python",
   "nbconvert_exporter": "python",
   "pygments_lexer": "ipython3",
   "version": "3.8.3"
  }
 },
 "nbformat": 4,
 "nbformat_minor": 4
}
