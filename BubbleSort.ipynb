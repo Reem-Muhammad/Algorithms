{
 "cells": [
  {
   "cell_type": "markdown",
   "metadata": {},
   "source": [
    "# Typical Bubble sort\n",
    "1- start at index i=0  \n",
    "2- if the element at i > element at i+1, swap them  \n",
    "3- if not, advance i  \n",
    "4- repeat steps 2,3 until you reach index array_length-i (exclusive) to complete a single pass (each pass sorts an element from the end)  \n",
    "5- do steps 1:4 array_length times"
   ]
  },
  {
   "cell_type": "code",
   "execution_count": 1,
   "metadata": {},
   "outputs": [],
   "source": [
    "def bubble_sort(A):\n",
    "    '''\n",
    "    Ascendingly sort a list, in-place, using bubble sort\n",
    "    \n",
    "    Args\n",
    "    ----\n",
    "    A: list\n",
    "        list of elements to be sorted in-place\n",
    "        \n",
    "    '''\n",
    "    #repeat lenght(A) times\n",
    "    for i in range(len(A)):\n",
    "        #Loop on unsorted elements\n",
    "        for j in range(0, len(A)-i-1):\n",
    "            if A[j]>A[j+1]:\n",
    "                A[j], A[j+1] = A[j+1], A[j]  #swap\n",
    "    print(\"# passes: \", i)"
   ]
  },
  {
   "cell_type": "code",
   "execution_count": 2,
   "metadata": {},
   "outputs": [
    {
     "name": "stdout",
     "output_type": "stream",
     "text": [
      "# passes:  4\n",
      "after sorting:  [1, 2, 3, 4, 5]\n"
     ]
    }
   ],
   "source": [
    "arr = [5,4,3,2,1] #worst-case\n",
    "bubble_sort(arr)\n",
    "print(\"after sorting: \",arr)"
   ]
  },
  {
   "cell_type": "code",
   "execution_count": 3,
   "metadata": {},
   "outputs": [
    {
     "name": "stdout",
     "output_type": "stream",
     "text": [
      "# passes:  4\n",
      "after sorting:  [1, 2, 3, 4, 5]\n"
     ]
    }
   ],
   "source": [
    "arr = [1,2,3,4,5]\n",
    "bubble_sort(arr) #makes same # passes in best-case\n",
    "print(\"after sorting: \",arr)"
   ]
  },
  {
   "cell_type": "markdown",
   "metadata": {},
   "source": [
    "## Time Complexity Analysis\n",
    "\n",
    "#### Worst-case:\n",
    "at i = 0: inner loop repeats n-1 times  \n",
    "at i = 1: inner loop repeats n-2 times \n",
    "<pre>\n",
    ".  \n",
    ".  \n",
    ".   \n",
    "</pre>\n",
    "total number of iterations: $(n-1)+(n-2)+(n-3)+...+2+1=\\frac{n(n-1)}{2}=O(n^2)$\n",
    "\n",
    "\n",
    "#### Best-case:\n",
    "Insensitive to the input, so it carries out all the iteration even if the array is sorted.  \n",
    "$\\Omega{(n^2)}$"
   ]
  },
  {
   "cell_type": "markdown",
   "metadata": {},
   "source": [
    "## Space Complexity Analysis\n",
    "in-place sort --> space complexity: $O(1)$"
   ]
  },
  {
   "cell_type": "markdown",
   "metadata": {},
   "source": [
    " "
   ]
  },
  {
   "cell_type": "markdown",
   "metadata": {},
   "source": [
    " "
   ]
  },
  {
   "cell_type": "markdown",
   "metadata": {},
   "source": [
    " "
   ]
  },
  {
   "cell_type": "markdown",
   "metadata": {},
   "source": [
    " "
   ]
  },
  {
   "cell_type": "markdown",
   "metadata": {},
   "source": [
    " "
   ]
  },
  {
   "cell_type": "markdown",
   "metadata": {},
   "source": [
    "# Modified Bubble Sort\n",
    "If no swapping occured in a given pass, that means the array is sorted, so the algorithm stops."
   ]
  },
  {
   "cell_type": "code",
   "execution_count": 4,
   "metadata": {},
   "outputs": [],
   "source": [
    "def bubble_sort_modified(A):\n",
    "    '''\n",
    "    Ascendingly sort a list, in-place, using modified bubble sort\n",
    "    \n",
    "    Args\n",
    "    ----\n",
    "    A: list\n",
    "        list of elements to be sorted in-place\n",
    "        \n",
    "    '''\n",
    "    n_passes = 0 #keeps track of the number of passes\n",
    "    swap = True #keep track whether any swapping occured\n",
    "    #repeat as long as swapping occurs\n",
    "    while swap:\n",
    "        swap = False\n",
    "        #Loop on unsorted elements\n",
    "        for j in range(0, len(A)-n_passes-1):\n",
    "            if A[j]>A[j+1]:\n",
    "                A[j], A[j+1] = A[j+1], A[j]  #swap\n",
    "                swap = True\n",
    "        n_passes +=1\n",
    "    print(\"# passes: \", n_passes)"
   ]
  },
  {
   "cell_type": "code",
   "execution_count": 5,
   "metadata": {},
   "outputs": [
    {
     "name": "stdout",
     "output_type": "stream",
     "text": [
      "# passes:  1\n",
      "after sorting:  [1, 2, 3, 4, 5]\n"
     ]
    }
   ],
   "source": [
    "arr = [1,2,3,4,5] #best-case\n",
    "bubble_sort_modified(arr)\n",
    "print(\"after sorting: \",arr)"
   ]
  },
  {
   "cell_type": "code",
   "execution_count": 6,
   "metadata": {},
   "outputs": [
    {
     "name": "stdout",
     "output_type": "stream",
     "text": [
      "# passes:  5\n",
      "after sorting:  [1, 2, 3, 4, 5, 6, 7, 8, 9]\n",
      "\n",
      "\n",
      "Without the modification\n",
      "# passes:  8\n",
      "after sorting:  [1, 2, 3, 4, 5, 6, 7, 8, 9]\n"
     ]
    }
   ],
   "source": [
    "arr = [9,8,7,6,1,2,3,4,5]  #Partially-sorted array\n",
    "bubble_sort_modified(arr)\n",
    "print(\"after sorting: \",arr)\n",
    "\n",
    "print(\"\\n\\nWithout the modification\")\n",
    "arr = [9,8,7,6,1,2,3,4,5]\n",
    "bubble_sort(arr)\n",
    "print(\"after sorting: \",arr)"
   ]
  },
  {
   "cell_type": "markdown",
   "metadata": {},
   "source": [
    "## Time Complexity Analysis\n",
    "Iterations stop when the rest of the array is sorted.  \n",
    "\n",
    "**worst-case time complexity** is still $O(n^2)$  \n",
    "**best-case time complexity** becomes $\\Omega{(n)}$ since only a single pass will be executed where no swaps occur"
   ]
  },
  {
   "cell_type": "code",
   "execution_count": null,
   "metadata": {},
   "outputs": [],
   "source": []
  }
 ],
 "metadata": {
  "kernelspec": {
   "display_name": "Python 3",
   "language": "python",
   "name": "python3"
  },
  "language_info": {
   "codemirror_mode": {
    "name": "ipython",
    "version": 3
   },
   "file_extension": ".py",
   "mimetype": "text/x-python",
   "name": "python",
   "nbconvert_exporter": "python",
   "pygments_lexer": "ipython3",
   "version": "3.8.3"
  }
 },
 "nbformat": 4,
 "nbformat_minor": 4
}
